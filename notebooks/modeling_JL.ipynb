{
 "cells": [
  {
   "cell_type": "code",
   "execution_count": 56,
   "id": "1ff3bfbd-5cf9-4156-a8cd-88f86dd04ab5",
   "metadata": {},
   "outputs": [],
   "source": [
    "import pandas as pd\n",
    "from sklearn.model_selection import train_test_split, GridSearchCV\n",
    "from sklearn.preprocessing import StandardScaler, LabelEncoder\n",
    "from sklearn.svm import SVC\n",
    "from sklearn.tree import DecisionTreeClassifier\n",
    "from sklearn.metrics import classification_report, accuracy_score"
   ]
  },
  {
   "cell_type": "code",
   "execution_count": 57,
   "id": "1a8b863a-4d65-4e94-afb7-4d03ac081a0c",
   "metadata": {},
   "outputs": [
    {
     "data": {
      "text/html": [
       "<div>\n",
       "<style scoped>\n",
       "    .dataframe tbody tr th:only-of-type {\n",
       "        vertical-align: middle;\n",
       "    }\n",
       "\n",
       "    .dataframe tbody tr th {\n",
       "        vertical-align: top;\n",
       "    }\n",
       "\n",
       "    .dataframe thead th {\n",
       "        text-align: right;\n",
       "    }\n",
       "</style>\n",
       "<table border=\"1\" class=\"dataframe\">\n",
       "  <thead>\n",
       "    <tr style=\"text-align: right;\">\n",
       "      <th></th>\n",
       "      <th>WARD</th>\n",
       "      <th>TIME ENCODED</th>\n",
       "      <th>MONTH_SIN</th>\n",
       "      <th>MONTH_COS</th>\n",
       "      <th>WEEKEND</th>\n",
       "      <th>DATE OF OCCURRENCE</th>\n",
       "      <th>OFFENSES</th>\n",
       "      <th>LATITUDE</th>\n",
       "      <th>LONGITUDE</th>\n",
       "    </tr>\n",
       "  </thead>\n",
       "  <tbody>\n",
       "    <tr>\n",
       "      <th>0</th>\n",
       "      <td>35</td>\n",
       "      <td>6</td>\n",
       "      <td>5.000000e-01</td>\n",
       "      <td>8.660254e-01</td>\n",
       "      <td>0</td>\n",
       "      <td>2024-01-16 01:00:00</td>\n",
       "      <td>THEFT OVER $500</td>\n",
       "      <td>41.931844</td>\n",
       "      <td>-87.722951</td>\n",
       "    </tr>\n",
       "    <tr>\n",
       "      <th>1</th>\n",
       "      <td>42</td>\n",
       "      <td>4</td>\n",
       "      <td>-2.449294e-16</td>\n",
       "      <td>1.000000e+00</td>\n",
       "      <td>1</td>\n",
       "      <td>2023-12-31 16:30:00</td>\n",
       "      <td>BATTERY</td>\n",
       "      <td>41.888994</td>\n",
       "      <td>-87.626935</td>\n",
       "    </tr>\n",
       "    <tr>\n",
       "      <th>2</th>\n",
       "      <td>16</td>\n",
       "      <td>3</td>\n",
       "      <td>5.000000e-01</td>\n",
       "      <td>8.660254e-01</td>\n",
       "      <td>1</td>\n",
       "      <td>2024-01-06 12:50:00</td>\n",
       "      <td>DECEPTIVE PRACTICE</td>\n",
       "      <td>41.793299</td>\n",
       "      <td>-87.664566</td>\n",
       "    </tr>\n",
       "    <tr>\n",
       "      <th>3</th>\n",
       "      <td>1</td>\n",
       "      <td>3</td>\n",
       "      <td>8.660254e-01</td>\n",
       "      <td>-5.000000e-01</td>\n",
       "      <td>1</td>\n",
       "      <td>2024-04-07 13:56:00</td>\n",
       "      <td>THEFT OVER $500</td>\n",
       "      <td>41.906797</td>\n",
       "      <td>-87.671862</td>\n",
       "    </tr>\n",
       "    <tr>\n",
       "      <th>4</th>\n",
       "      <td>49</td>\n",
       "      <td>4</td>\n",
       "      <td>1.000000e+00</td>\n",
       "      <td>6.123234e-17</td>\n",
       "      <td>0</td>\n",
       "      <td>2024-03-22 15:30:00</td>\n",
       "      <td>THEFT UNDER $500</td>\n",
       "      <td>42.007825</td>\n",
       "      <td>-87.670842</td>\n",
       "    </tr>\n",
       "  </tbody>\n",
       "</table>\n",
       "</div>"
      ],
      "text/plain": [
       "   WARD  TIME ENCODED     MONTH_SIN     MONTH_COS  WEEKEND  \\\n",
       "0    35             6  5.000000e-01  8.660254e-01        0   \n",
       "1    42             4 -2.449294e-16  1.000000e+00        1   \n",
       "2    16             3  5.000000e-01  8.660254e-01        1   \n",
       "3     1             3  8.660254e-01 -5.000000e-01        1   \n",
       "4    49             4  1.000000e+00  6.123234e-17        0   \n",
       "\n",
       "    DATE OF OCCURRENCE            OFFENSES   LATITUDE  LONGITUDE  \n",
       "0  2024-01-16 01:00:00     THEFT OVER $500  41.931844 -87.722951  \n",
       "1  2023-12-31 16:30:00             BATTERY  41.888994 -87.626935  \n",
       "2  2024-01-06 12:50:00  DECEPTIVE PRACTICE  41.793299 -87.664566  \n",
       "3  2024-04-07 13:56:00     THEFT OVER $500  41.906797 -87.671862  \n",
       "4  2024-03-22 15:30:00    THEFT UNDER $500  42.007825 -87.670842  "
      ]
     },
     "execution_count": 57,
     "metadata": {},
     "output_type": "execute_result"
    }
   ],
   "source": [
    "#Load dataset from ../raw_data/\n",
    "df = pd.read_csv(\"../raw_data/preprocessed_chicago.csv\")\n",
    "df.head(5)"
   ]
  },
  {
   "cell_type": "code",
   "execution_count": 58,
   "id": "8200ec28-99d5-4356-841f-170ff18ad734",
   "metadata": {},
   "outputs": [
    {
     "data": {
      "text/plain": [
       "OFFENSES\n",
       "BATTERY                45766\n",
       "THEFT OVER $500        31671\n",
       "CRIMINAL DAMAGE        28638\n",
       "THEFT UNDER $500       28400\n",
       "ASSAULT                23508\n",
       "MOTOR VEHICLE THEFT    22331\n",
       "OTHER OFFENSE          16773\n",
       "DECEPTIVE PRACTICE     15059\n",
       "Name: count, dtype: int64"
      ]
     },
     "execution_count": 58,
     "metadata": {},
     "output_type": "execute_result"
    }
   ],
   "source": [
    "df['OFFENSES'].value_counts()"
   ]
  },
  {
   "cell_type": "code",
   "execution_count": 59,
   "id": "a159472c-54d1-4244-8060-2c095c5176ec",
   "metadata": {},
   "outputs": [],
   "source": [
    "# Preprocessing\n",
    "# Encode the target variable\n",
    "label_encoder = LabelEncoder()\n",
    "df['OFFENSES'] = label_encoder.fit_transform(df['OFFENSES'])\n",
    "\n",
    "# Convert date to datetime and extract features like day of week\n",
    "df['DATE OF OCCURRENCE'] = pd.to_datetime(df['DATE OF OCCURRENCE'])\n",
    "df['DAY_OF_WEEK'] = df['DATE OF OCCURRENCE'].dt.dayofweek"
   ]
  },
  {
   "cell_type": "code",
   "execution_count": 60,
   "id": "503ae5dc-bf2c-4076-b2fd-e7763159e4fe",
   "metadata": {},
   "outputs": [
    {
     "data": {
      "text/plain": [
       "OFFENSES\n",
       "1    45766\n",
       "6    31671\n",
       "2    28638\n",
       "7    28400\n",
       "0    23508\n",
       "4    22331\n",
       "5    16773\n",
       "3    15059\n",
       "Name: count, dtype: int64"
      ]
     },
     "execution_count": 60,
     "metadata": {},
     "output_type": "execute_result"
    }
   ],
   "source": [
    "df['OFFENSES'].value_counts()"
   ]
  },
  {
   "cell_type": "markdown",
   "id": "6e74956a-2332-40d0-89ea-8de25b411c29",
   "metadata": {},
   "source": [
    "SVM:"
   ]
  },
  {
   "cell_type": "code",
   "execution_count": 61,
   "id": "872967b1-2e0c-4f13-b102-7576b116970d",
   "metadata": {},
   "outputs": [],
   "source": [
    "# Take a smaller sample for testing\n",
    "df_sample = df.sample(n=10, random_state=42)  # Adjust n for the number of samples you want to test\n",
    "X = df_sample[['WARD', 'TIME ENCODED', 'MONTH_SIN', 'MONTH_COS', 'WEEKEND', 'LATITUDE', 'LONGITUDE', 'DAY_OF_WEEK']]\n",
    "y = df_sample['OFFENSES']"
   ]
  },
  {
   "cell_type": "code",
   "execution_count": 62,
   "id": "8fa8ecc9-7846-4a2e-9377-06bf3cd7be59",
   "metadata": {},
   "outputs": [
    {
     "name": "stdout",
     "output_type": "stream",
     "text": [
      "Accuracy: 0.0\n",
      "Classification Report:\n",
      "               precision    recall  f1-score   support\n",
      "\n",
      "           2       0.00      0.00      0.00       2.0\n",
      "           6       0.00      0.00      0.00       0.0\n",
      "           7       0.00      0.00      0.00       0.0\n",
      "\n",
      "    accuracy                           0.00       2.0\n",
      "   macro avg       0.00      0.00      0.00       2.0\n",
      "weighted avg       0.00      0.00      0.00       2.0\n",
      "\n"
     ]
    },
    {
     "name": "stderr",
     "output_type": "stream",
     "text": [
      "/Users/jackylui/.pyenv/versions/3.10.6/envs/risky_predictive_policing/lib/python3.10/site-packages/sklearn/metrics/_classification.py:1531: UndefinedMetricWarning: Precision is ill-defined and being set to 0.0 in labels with no predicted samples. Use `zero_division` parameter to control this behavior.\n",
      "  _warn_prf(average, modifier, f\"{metric.capitalize()} is\", len(result))\n",
      "/Users/jackylui/.pyenv/versions/3.10.6/envs/risky_predictive_policing/lib/python3.10/site-packages/sklearn/metrics/_classification.py:1531: UndefinedMetricWarning: Recall is ill-defined and being set to 0.0 in labels with no true samples. Use `zero_division` parameter to control this behavior.\n",
      "  _warn_prf(average, modifier, f\"{metric.capitalize()} is\", len(result))\n",
      "/Users/jackylui/.pyenv/versions/3.10.6/envs/risky_predictive_policing/lib/python3.10/site-packages/sklearn/metrics/_classification.py:1531: UndefinedMetricWarning: Precision is ill-defined and being set to 0.0 in labels with no predicted samples. Use `zero_division` parameter to control this behavior.\n",
      "  _warn_prf(average, modifier, f\"{metric.capitalize()} is\", len(result))\n",
      "/Users/jackylui/.pyenv/versions/3.10.6/envs/risky_predictive_policing/lib/python3.10/site-packages/sklearn/metrics/_classification.py:1531: UndefinedMetricWarning: Recall is ill-defined and being set to 0.0 in labels with no true samples. Use `zero_division` parameter to control this behavior.\n",
      "  _warn_prf(average, modifier, f\"{metric.capitalize()} is\", len(result))\n",
      "/Users/jackylui/.pyenv/versions/3.10.6/envs/risky_predictive_policing/lib/python3.10/site-packages/sklearn/metrics/_classification.py:1531: UndefinedMetricWarning: Precision is ill-defined and being set to 0.0 in labels with no predicted samples. Use `zero_division` parameter to control this behavior.\n",
      "  _warn_prf(average, modifier, f\"{metric.capitalize()} is\", len(result))\n",
      "/Users/jackylui/.pyenv/versions/3.10.6/envs/risky_predictive_policing/lib/python3.10/site-packages/sklearn/metrics/_classification.py:1531: UndefinedMetricWarning: Recall is ill-defined and being set to 0.0 in labels with no true samples. Use `zero_division` parameter to control this behavior.\n",
      "  _warn_prf(average, modifier, f\"{metric.capitalize()} is\", len(result))\n"
     ]
    }
   ],
   "source": [
    "# Split the dataset\n",
    "X_train, X_test, y_train, y_test = train_test_split(X, y, test_size=0.2, random_state=42)\n",
    "\n",
    "# Scale the features\n",
    "scaler = StandardScaler()\n",
    "X_train = scaler.fit_transform(X_train)\n",
    "X_test = scaler.transform(X_test)\n",
    "\n",
    "# Train the SVM classifier\n",
    "clf = SVC(kernel='linear', random_state=42)\n",
    "clf.fit(X_train, y_train)\n",
    "\n",
    "# Make predictions\n",
    "y_pred = clf.predict(X_test)\n",
    "\n",
    "# Evaluate the model\n",
    "print(\"Accuracy:\", accuracy_score(y_test, y_pred))\n",
    "print(\"Classification Report:\\n\", classification_report(y_test, y_pred))\n"
   ]
  },
  {
   "cell_type": "markdown",
   "id": "938c47da-c8b1-4d05-a0a5-5c8a852147b8",
   "metadata": {},
   "source": [
    "Decision-Tree adapted:"
   ]
  },
  {
   "cell_type": "code",
   "execution_count": 63,
   "id": "395db338-982d-4387-acd9-dd791167a1ff",
   "metadata": {},
   "outputs": [],
   "source": [
    "# Select features and target\n",
    "X = df[['WARD', 'TIME ENCODED', 'MONTH_SIN', 'MONTH_COS', 'WEEKEND', 'LATITUDE', 'LONGITUDE']]\n",
    "y = df['OFFENSES']"
   ]
  },
  {
   "cell_type": "code",
   "execution_count": 64,
   "id": "5c44b564-a88f-44b6-a9f4-f5379b6b69c5",
   "metadata": {},
   "outputs": [],
   "source": [
    "# Split the dataset\n",
    "X_train, X_test, y_train, y_test = train_test_split(X, y, test_size=0.3, random_state=42)\n",
    "\n",
    "# Scale the features\n",
    "scaler = StandardScaler()\n",
    "X_train = scaler.fit_transform(X_train)\n",
    "X_test = scaler.transform(X_test)\n"
   ]
  },
  {
   "cell_type": "code",
   "execution_count": 65,
   "id": "bf02a76a-cf13-4971-beb3-3b672245391f",
   "metadata": {},
   "outputs": [
    {
     "name": "stdout",
     "output_type": "stream",
     "text": [
      "Accuracy: 0.2208377851800641\n",
      "Classification Report:\n",
      "               precision    recall  f1-score   support\n",
      "\n",
      "           0       0.15      0.16      0.15      7010\n",
      "           1       0.28      0.28      0.28     13718\n",
      "           2       0.19      0.19      0.19      8679\n",
      "           3       0.15      0.15      0.15      4580\n",
      "           4       0.16      0.16      0.16      6659\n",
      "           5       0.13      0.14      0.13      5053\n",
      "           6       0.37      0.37      0.37      9471\n",
      "           7       0.19      0.18      0.18      8474\n",
      "\n",
      "    accuracy                           0.22     63644\n",
      "   macro avg       0.20      0.20      0.20     63644\n",
      "weighted avg       0.22      0.22      0.22     63644\n",
      "\n"
     ]
    }
   ],
   "source": [
    "# Train the Decision Tree classifier\n",
    "clf = DecisionTreeClassifier(random_state=42)\n",
    "clf.fit(X_train, y_train)\n",
    "\n",
    "# Make predictions\n",
    "y_pred = clf.predict(X_test)\n",
    "\n",
    "# Evaluate the model\n",
    "print(\"Accuracy:\", accuracy_score(y_test, y_pred))\n",
    "print(\"Classification Report:\\n\", classification_report(y_test, y_pred))"
   ]
  },
  {
   "cell_type": "code",
   "execution_count": 66,
   "id": "ffb7464a-6d82-41e3-ae5b-e3ec48e49bab",
   "metadata": {},
   "outputs": [],
   "source": [
    "# # Set up the parameter grid for hyperparameter tuning\n",
    "# param_grid = {\n",
    "#     'criterion': ['gini', 'entropy'],\n",
    "#     'max_depth': [None, 5, 10, 20],\n",
    "#     'min_samples_split': [2, 5, 10],\n",
    "#     'min_samples_leaf': [1, 2, 4]\n",
    "# }\n",
    "\n",
    "# # Perform grid search\n",
    "# clf = DecisionTreeClassifier(random_state=42)\n",
    "# grid_search = GridSearchCV(estimator=clf, param_grid=param_grid, cv=3, scoring='accuracy', n_jobs=-1)\n",
    "# grid_search.fit(X_train, y_train)\n",
    "\n",
    "# # Best parameters and model evaluation\n",
    "# best_clf = grid_search.best_estimator_\n",
    "# y_pred = best_clf.predict(X_test)\n",
    "\n",
    "# print(\"Best Parameters:\", grid_search.best_params_)\n",
    "# print(\"Accuracy:\", accuracy_score(y_test, y_pred))\n",
    "# print(\"Classification Report:\\n\", classification_report(y_test, y_pred))\n"
   ]
  },
  {
   "cell_type": "code",
   "execution_count": null,
   "id": "b0bcf2f3-0556-4473-ade5-a2c8d34f74cb",
   "metadata": {},
   "outputs": [],
   "source": []
  }
 ],
 "metadata": {
  "kernelspec": {
   "display_name": "Python 3 (ipykernel)",
   "language": "python",
   "name": "python3"
  },
  "language_info": {
   "codemirror_mode": {
    "name": "ipython",
    "version": 3
   },
   "file_extension": ".py",
   "mimetype": "text/x-python",
   "name": "python",
   "nbconvert_exporter": "python",
   "pygments_lexer": "ipython3",
   "version": "3.10.6"
  }
 },
 "nbformat": 4,
 "nbformat_minor": 5
}
